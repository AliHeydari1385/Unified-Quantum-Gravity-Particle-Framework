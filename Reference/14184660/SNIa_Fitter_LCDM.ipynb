{
 "cells": [
  {
   "cell_type": "markdown",
   "id": "6a799059",
   "metadata": {},
   "source": [
    "### Fitting flat $\\Lambda$CDM model to the SNIa database"
   ]
  },
  {
   "cell_type": "markdown",
   "id": "4d05cc98",
   "metadata": {},
   "source": [
    "- The aim of this code is to constrain flat $\\Lambda$CDM model by fitting to the Pantheon+ SNIa database. The fitting is performed using an MCMC algorithm that minimizes the $\\chi^2$ statistic based on the distance moduli calculated from the model and observed data. <br>\n",
    "The fitting process consists of two steps: <br>\n",
    "Step #1 - Finding outliers: With **SigmaClipping** set to True, outlier SNe are identified through automatic sigma clipping over multiple iterations. <br>\n",
    "Step #2 - Constraining parameters: With **SigmaClipping** set to False, SN and model parameters are constrained using only the non-discarded SNe. <br>\n",
    "<br>\n",
    "<ins>Parameters:</ins> <br>\n",
    "- **SigmaClipping**: True or False. <br>\n",
    "$\\quad$ $\\quad$ True - Finding outliers, <br>\n",
    "$\\quad$ $\\quad$ False - Constraining SN and model parameters. <br>\n",
    "- **ParamNames**: List of the fitted parameters. The following parameters are fitted simultaneously: <br>\n",
    "$\\quad$ $\\quad$ SN free parameters: $\\alpha$, $\\beta$, $\\gamma$, and $M_B$ <br>\n",
    "$\\quad$ $\\quad$ Model parameters: $h$ ($= H_0/100,\\textrm{km},\\textrm{s}^{-1},\\textrm{Mpc}^{-1}$, the reduced Hubble constant), and $\\Omega_{m,0}$ (the matter density parameter). <br>\n",
    "- **Labels**: Formatted parameter names as they appear on the corner plot. <br>\n",
    "- **Om_ind**: Index of $\\Omega_{m,0}$ in **ParamNames**. <br>\n",
    "- **parameter_limits**: Defines parameter space boundaries (column #1: lower, column #2: upper boundary) to be explored in the fitting process, as well as the step length (column #3) applied by the MCMC algorithm along the different dimensions of the parameter space. Each row corresponds to one fitted parameter, in the same order defined in **ParamNames**. <br>\n",
    "- **TrialNum**: Number of MCMC steps (integer). Based on preliminary runs, 5 million steps consistently identify the same outliers, while 50 million steps consistently return the same p-values in the Anderson-Darling test. Therefore **TrialNum** is set to: <br>\n",
    "$\\quad$ $\\quad$ 5,000,000 if **SigmaClipping** = True, <br>\n",
    "$\\quad$ $\\quad$ 50,000,000 if **SigmaClipping** = False. <br>\n",
    "- **printstep**: Displays the number of steps and elapsed time in seconds after every **printstep** steps in the MCMC process. **printstep** must be an integer. <br>\n",
    "- **burn**: Burn-in period (integer). The first **burn** steps are discarded to determine optimal parameters. Based on preliminary runs, **burn** is set to 5,000 steps. <br>\n",
    "- **bins**: Number of bins for the histograms on the corner plot. <br>\n",
    "<br>\n",
    "<ins>Calculated parameters:</ins> <br>\n",
    "- **NumParams**: Number of fitted parameters, equal to the length of **ParamNames**. <br>\n",
    "- **Prefix**: String used to distinguish different fitted models, here 'SNIa_FlatLCDM'. It is appended to the generated filenames. If **SigmaClipping** is True, **Prefix** is further extended with **sc _IterationNumber_**. <br>\n",
    "<br>\n",
    "<ins>Input files</ins> (Must be in the same folder as this code!): <br>\n",
    "- **Pantheon+SH0ES.dat**: Pantheon+ SNIa database, stored in **SNIa_data**, where the entire database is restricted to the following columns: <br>\n",
    "$\\quad$ $\\quad$ #3 : zHD - Hubble Diagram Redshift (with CMB and VPEC corrections), <br>\n",
    "$\\quad$ $\\quad$ #13: CEPH_DIST - cepheid calculated absolute distance to host (uncertainty is incorporated in covariance matrix .cov), <br>\n",
    "$\\quad$ $\\quad$ #14: IS_CALIBRATOR - binary to designate if this SN is in a host that has an associated cepheid distance, <br>\n",
    "$\\quad$ $\\quad$ #20: mB - SALT2 uncorrected brightness, <br>\n",
    "$\\quad$ $\\quad$ #18: x1 - SALT2 stretch, <br>\n",
    "$\\quad$ $\\quad$ #16: c - SALT2 color, <br>\n",
    "$\\quad$ $\\quad$ #35: HOST_LOGMASS - Host Galaxy Log Stellar Mass, <br>\n",
    "$\\quad$ $\\quad$ #44: biasCor_m_b - Bias correction applied to brightness m_b <br>\n",
    "$\\color{red}{\\text{Pantheon+ SNIa database is not included in this GitHub repository, please download it from}}$ https://github.com/PantheonPlusSH0ES/DataRelease/blob/main/Pantheon%2B_Data/4_DISTANCES_AND_COVAR/Pantheon%2BSH0ES.dat. <br>\n",
    "- **Pantheon+SH0ES_STAT+SYS.cov**: Pantheon+ Statistical + Systematic Covariance matrix. Matrix formed data is stored in **Cov**, while its inverse in **Cov_inv**. <br>\n",
    "$\\color{red}{\\text{Pantheon+ Statistical + Systematic Covariance matrix is not included in this GitHub repository, please download it from}}$ https://github.com/PantheonPlusSH0ES/DataRelease/blob/main/Pantheon%2B_Data/4_DISTANCES_AND_COVAR/Pantheon%2BSH0ES_STAT%2BSYS.cov <br>\n",
    "<br>\n",
    "<ins>Functions:</ins> <br>\n",
    "- **Mu_measured**: Returns the distance moduli for each SNe (array **mu_meas**) calculated from the measurement data using the following parameters: <br>\n",
    "$\\quad$ $\\quad$ mB, x1, co, m_host, d_bias : measured data, comes from the array **SNIa_data**, <br>\n",
    "$\\quad$ $\\quad$ alpha, beta, gamma, MB : free SN parameters, <br>\n",
    "$\\quad$ $\\quad$ tau : the step width applied when determining $\\delta_{\\textrm{host}}$. <br>\n",
    "$\\quad$ $\\quad$ $\\quad$ Source for $\\tau$: https://github.com/PantheonPlusSH0ES/DataRelease/tree/main/Pantheon%2B_Data/5_COSMOLOGY/chains <br>\n",
    "- **Integrate**: This function calculates the integral of the reciprocal of the expansion function, separated from **Mu_theory**. The input parameters are: <br>\n",
    "$\\quad$ $\\quad$ z : redshift - measured data, comes from the array **SNIa_data**, <br>\n",
    "$\\quad$ $\\quad$ Om : matter density parameter - free parameter of the model. <br>\n",
    "- **Mu_theory**: Returns the distance moduli for each SNe (array **mu_th_calc**) calculated from the cosmological model using the following parameters: <br>\n",
    "$\\quad$ $\\quad$ z : redshift - measured data, comes from the array **SNIa_data**, <br>\n",
    "$\\quad$ $\\quad$ h : reduced Hubble constant - free parameter of the model, <br>\n",
    "$\\quad$ $\\quad$ integr : result of **Integrate**, <br>\n",
    "$\\quad$ $\\quad$ c : speed of light in vacuum expressed in m/s units - hardcoded parameter. <br>\n",
    "$\\quad$ For Cepheid-calibrated SNe (calib=1), the calculated distance modulus is replaced by the Cepheid distance modulus (mu_calib) in the **mu_th** array. <br>\n",
    "- **ChiCalculator**: Calculates and returns $\\chi^2$ for each SNe (array **Chi**) from **mu_meas**, **mu_th** and **Cov_inv**, according to eq.(6) in https://iopscience.iop.org/article/10.3847/2041-8213/ac5c5b. <br>\n",
    "<br>\n",
    "<ins>MCMC algorithm:</ins> <br>\n",
    "- In the **MCMC** function we start from a randomly chosen point in parameter space, with coordinates drawn uniformly between parameter boundaries, and compute the initial $\\chi^2$ statistic (**OutStat**). <br>\n",
    "We then take **TrialNum** steps, each time calculating the $\\chi^2$ statistic (**TestOutStat**) with updated parameters (**TestParams**). Each step involves randomly selecting a parameter (**ParamInd**) and choosing a step length from a Gaussian distribution with zero mean and sigma defined in **parameter_limits** (**RandStepParam**). If a step moves out of bounds, we adjust in the opposite direction. <br>\n",
    "Steps are accepted with probability 1 if $\\chi^2$ improves, or with an acceptance probability **a** if it worsens. Otherwise the new step is rejected and we keep the previous step's parameters. <br>\n",
    "Each step is recorded in the file **OutMatrix_*Prefix*.txt**. <br>\n",
    "To save computation time, the **integr** array is recalculated only if the chosen parameter is $\\Omega_{m,0}$, otherwise, the array from the previously accepted step is used. <br>\n",
    "<br>\n",
    "<ins>Optimal parameter values:</ins> <br>\n",
    "- **OptPar** function determines optimal parameters with left and right uncertainties as the 0.5, 0.16 and 0.84 quantiles. It processes values from **OutMatrix_*Prefix*.txt**, excluding the first **burn** steps. The result is written in a file named **params_*Prefix*.txt**. <br>\n",
    "<br>\n",
    "<ins>Sigma clipping:</ins> <br>\n",
    "- If **SigmaClipping** is True, sigma clipping is applied automatically (function **Sigma_Clipping**), with multiple iterations per fitting process. After each iteration, SNe with distance moduli deviating more than 3 sigma from the model, based on the current parameters, are filtered out. <br>\n",
    "<br>\n",
    "<ins>RunThis:</ins> <br>\n",
    "- If **SigmaClipping** is True, the function **RunThis** executes the entire iteration process by calling **MCMC**, **OptPar** and **Sigma_Clipping**. The string **sc** along with the current iteration number (**IterationNumber**) is appended to filenames. An automatically generated file **outfiltered_*Prefix*.txt** records the iteration number at which each SNe was discarded (or 0 if not rejected). The start and end of each iteration, along with the count of outfiltered SNe, are displayed on screen. The process continues until no more outliers are found. <br>\n",
    "- If **SigmaClipping** is False, the function **RunThis** calls **MCMC** and **OptPar** using the non-discarded SNe only. <br>\n",
    "<br>\n",
    "<ins>Output files</ins> (Generated in the same location as the code.): <br>\n",
    "- **OutMatrix_*Prefix*.txt**: MCMC output containing parameter values and $\\chi^2$ statistics. It has # parameters + 1 columns and TrialNum + 1 rows (including the initial configuration), with a new line added after each step. During Step #1 when **SigmaClipping** is True, a new file is created for each iteration, distinguished by appending **sc _IterationNumber_** to the filename. In Step #2 one such file is created. <br>\n",
    "- **outfiltered_*Prefix*.txt**: Matches the SNIa database in rows and records the IterationNumber when each SNIa was rejected. Only one such file is created during Step #1 when **SigmaClipping** is True, and this file is used in Step #2. <br>\n",
    "- **params_*Prefix*.txt**: Contains parameter values (column #1) and uncertainties (columns #2: left, #3: right), with rows corresponding to parameters in the order defined by **ParamNames**. During Step #1 when **SigmaClipping** is True, a new file is created for each iteration, distinguished by appending **sc _IterationNumber_** to the filename. In Step #2 one such file is created. <br>\n",
    "- ***Prefix*_posteriors.pdf**: Corner plot of the fitted parameters, generated at the conclusion of Step #2."
   ]
  },
  {
   "cell_type": "code",
   "execution_count": null,
   "id": "9a98a8b6",
   "metadata": {},
   "outputs": [],
   "source": [
    "import numpy as np\n",
    "import matplotlib.pyplot as plt\n",
    "import random\n",
    "import os\n",
    "import time\n",
    "import corner\n",
    "from scipy.integrate import quad"
   ]
  },
  {
   "cell_type": "markdown",
   "id": "c45d9f80",
   "metadata": {},
   "source": [
    "#### Parameters"
   ]
  },
  {
   "cell_type": "code",
   "execution_count": null,
   "id": "b05a6a20",
   "metadata": {},
   "outputs": [],
   "source": [
    "SigmaClipping    = True\n",
    "ParamNames       = ['alpha','beta','gamma','MB','h','Om']\n",
    "Labels           = [r'$\\alpha$',r'$\\beta$',r'$\\gamma$',r'$M_B$',r'$H_0$',r'$\\Omega_{m,0}$']\n",
    "Om_ind           = 5\n",
    "parameter_limits = np.array([[0,0.2,0.01],[1.3,3.2,0.05],[-0.6,0.2,0.05],[-20,-18.8,0.05],[0.62,0.78,0.01],[0,1,0.05]])\n",
    "TrialNum         = int((5 if SigmaClipping else 50) * 1e6)\n",
    "printstep        = int(TrialNum/10)\n",
    "burn             = 5000\n",
    "bins             = 100\n",
    "#############################################################################################\n",
    "NumParams        = len(ParamNames)\n",
    "Prefix           = 'SNIa_FlatLCDM'\n",
    "print(Prefix)"
   ]
  },
  {
   "cell_type": "markdown",
   "id": "1bb3560e",
   "metadata": {},
   "source": [
    "#### Input files"
   ]
  },
  {
   "cell_type": "code",
   "execution_count": null,
   "id": "a73be734",
   "metadata": {},
   "outputs": [],
   "source": [
    "SNIa_data        = np.genfromtxt('Pantheon+SH0ES.dat', skip_header = True, delimiter=' ')[:,[2,12,13,19,17,15,34,43]]\n",
    "Cov_raw          = np.genfromtxt('Pantheon+SH0ES_STAT+SYS.cov')\n",
    "Cov              = Cov_raw[1:].reshape(int(Cov_raw[0]),int(Cov_raw[0]))\n",
    "Cov_inv          = np.linalg.inv(Cov)\n",
    "del Cov_raw"
   ]
  },
  {
   "cell_type": "markdown",
   "id": "e8f18521",
   "metadata": {},
   "source": [
    "#### Functions"
   ]
  },
  {
   "cell_type": "code",
   "execution_count": null,
   "id": "25bc3af2",
   "metadata": {},
   "outputs": [],
   "source": [
    "c   = 299792458\n",
    "tau = 0.0697186\n",
    "\n",
    "def Mu_measured(SNIa_dat, Params):    \n",
    "    [z, mu_calib, calib, mB, x1, co, m_host, d_bias] = [SNIa_dat[:,i] for i in range(len(SNIa_dat[0]))]     \n",
    "    [alpha, beta, gamma, MB, h, Om]                  = [Params[i] for i in range(NumParams)]    \n",
    "    d_host  = gamma * 1/(1 + np.exp((m_host-10)/tau)) - gamma/2    \n",
    "    mu_meas = mB + alpha * x1 - beta * co - MB - d_bias + d_host    \n",
    "    return mu_meas\n",
    "\n",
    "def Integrate(z, Om):    \n",
    "    def I(x):\n",
    "        return 1 / np.sqrt( Om*(1+x)**3 + (1-Om) )    \n",
    "    integr = np.empty(len(z))\n",
    "    for i in range(len(z)):\n",
    "        integr[i] = quad(I, 0, z[i])[0]    \n",
    "    return integr\n",
    "\n",
    "def Mu_theory(SNIa_dat, Params, integr):    \n",
    "    [z, mu_calib, calib, mB, x1, co, m_host, d_bias] = [SNIa_dat[:,i] for i in range(len(SNIa_dat[0]))]\n",
    "    [alpha, beta, gamma, MB, h, Om]                  = [Params[i] for i in range(NumParams)]    \n",
    "    dL    = (1+z) * c/h * integr\n",
    "    mu_th_calc = 5 * np.log10(dL)\n",
    "    mu_th = mu_calib * calib + mu_th_calc * (1-calib)\n",
    "    return mu_th, mu_th_calc\n",
    "\n",
    "def ChiCalculator(SNIa_dat, Params, integr, Cov_inv):    \n",
    "    mu_meas           = Mu_measured(SNIa_dat, Params)\n",
    "    mu_th, mu_th_calc = Mu_theory(SNIa_dat, Params, integr)    \n",
    "    res               = mu_meas - mu_th\n",
    "    Chi               = res * np.matmul(Cov_inv, res)    \n",
    "    return Chi"
   ]
  },
  {
   "cell_type": "markdown",
   "id": "2aa23bee",
   "metadata": {},
   "source": [
    "#### MCMC algorithm"
   ]
  },
  {
   "cell_type": "code",
   "execution_count": null,
   "id": "e48401a7",
   "metadata": {},
   "outputs": [],
   "source": [
    "def MCMC(SNIa_dat, Covinv, Prefix):\n",
    "    \n",
    "    # Initial configuration\n",
    "    Params        = np.empty(NumParams)\n",
    "    for i in range(NumParams):\n",
    "        Params[i] = parameter_limits[i][0] + (parameter_limits[i][1] - parameter_limits[i][0]) * random.random() \n",
    "    z             = SNIa_dat[:,0]\n",
    "    integr        = Integrate(z, Params[Om_ind])\n",
    "    OutStat       = sum(ChiCalculator(SNIa_dat, Params, integr, Covinv))\n",
    "    Params_out    = np.append(Params, OutStat)\n",
    "    np.savetxt('OutMatrix_' + Prefix + '.txt', Params_out, newline=' ') \n",
    "        \n",
    "    # Wandering within the the parameter space for TrialNum steps\n",
    "    for j in range(TrialNum):\n",
    "        if j/printstep == np.floor(j/printstep):\n",
    "            start = time.time()\n",
    "        \n",
    "        Test_Params   = Params.copy()\n",
    "        ParamInd      = random.randint(1, NumParams)-1        \n",
    "        RandStepParam = parameter_limits[ParamInd][2] * random.gauss(0,1)\n",
    "        \n",
    "        if parameter_limits[ParamInd][0] <= Test_Params[ParamInd]+RandStepParam <= parameter_limits[ParamInd][1]:\n",
    "            Test_Params[ParamInd]   = Test_Params[ParamInd] + RandStepParam\n",
    "        else: Test_Params[ParamInd] = Test_Params[ParamInd] - RandStepParam        \n",
    "                \n",
    "        if ParamInd == Om_ind:\n",
    "            Test_integr   = Integrate(z, Test_Params[Om_ind])\n",
    "        else: Test_integr = integr\n",
    "        \n",
    "        Test_OutStat = sum(ChiCalculator(SNIa_dat, Test_Params, Test_integr, Covinv))\n",
    "   \n",
    "        a = np.exp(-(Test_OutStat-OutStat)/2)\n",
    "        p = random.random()\n",
    "        if a >= p:\n",
    "            OutStat  = Test_OutStat\n",
    "            Params   = Test_Params\n",
    "            integr   = Test_integr\n",
    "            \n",
    "        Params_out   = np.append(Params, OutStat)\n",
    "        with open('OutMatrix_' + Prefix + '.txt','a') as f:\n",
    "            f.write('\\n')\n",
    "            np.savetxt(f, Params_out, newline=' ')\n",
    "                \n",
    "        if (j+1)/printstep == np.floor((j+1)/printstep):\n",
    "            end = time.time()\n",
    "            print(j+1, end-start)"
   ]
  },
  {
   "cell_type": "markdown",
   "id": "380d6c1f",
   "metadata": {},
   "source": [
    "#### Optimal parameter values"
   ]
  },
  {
   "cell_type": "code",
   "execution_count": null,
   "id": "7dab0fa8",
   "metadata": {},
   "outputs": [],
   "source": [
    "def OptPar(Prefix):\n",
    "    \n",
    "    OutMatrix = np.genfromtxt('OutMatrix_' + Prefix + '.txt', delimiter=' ')\n",
    "    OutM      = OutMatrix[:,range(NumParams)][burn:]    \n",
    "    quantiles = [0.16, 0.5, 0.84]\n",
    "    \n",
    "    OptParams = []\n",
    "    for i in range(NumParams):\n",
    "        opt       = corner.quantile(OutM[:,i],quantiles)\n",
    "        OptParams = OptParams + [[opt[1], opt[1]-opt[0], opt[2]-opt[1]]]\n",
    "    np.savetxt('params_' + Prefix + '.txt', OptParams, delimiter='\\t')\n",
    "    \n",
    "    if SigmaClipping == False:\n",
    "        OutM1      = OutM.copy()\n",
    "        OutM1[:,4] = OutM1[:,4]*100\n",
    "        figure = corner.corner(OutM1, bins=bins, labels=Labels, quantiles=quantiles, show_titles=True, title_fmt='.4f', title_kwargs={\"fontsize\": 12})\n",
    "        figure.savefig(Prefix + '_posteriors.pdf')"
   ]
  },
  {
   "cell_type": "markdown",
   "id": "8c24347b",
   "metadata": {},
   "source": [
    "#### Sigma clipping"
   ]
  },
  {
   "cell_type": "code",
   "execution_count": null,
   "id": "dbdce229",
   "metadata": {},
   "outputs": [],
   "source": [
    "def Sigma_Clipping(Prefix, Prefix2, IterationNumber):\n",
    "    \n",
    "    Params            = np.genfromtxt('params_' + Prefix2 + '.txt')[:,0]\n",
    "    mu_meas           = Mu_measured(SNIa_data, Params)\n",
    "    z                 = SNIa_data[:,0]\n",
    "    integr            = Integrate(z, Params[Om_ind])\n",
    "    mu_th, mu_th_calc = Mu_theory(SNIa_data, Params, integr)\n",
    "    res               = np.abs(mu_meas - mu_th_calc) / np.sqrt(Cov.diagonal())\n",
    "    outf              = res > 3\n",
    "    \n",
    "    Outfiltered       = np.genfromtxt('outfiltered_' + Prefix + '.txt')\n",
    "    for i in range(len(Outfiltered)):\n",
    "        if (Outfiltered[i] == 0 and outf[i] == True):\n",
    "            Outfiltered[i] = IterationNumber        \n",
    "    np.savetxt('outfiltered_' + Prefix + '.txt', Outfiltered)\n",
    "    \n",
    "def Masking(Prefix):\n",
    "    Outfiltered  = np.genfromtxt('outfiltered_' + Prefix + '.txt')\n",
    "    mask         = Outfiltered == 0\n",
    "    Data         = SNIa_data[mask]\n",
    "    Cov_masked   = np.asarray([Cov[i][mask] for i in range(len(Cov))])[mask]\n",
    "    Covinv       = np.linalg.inv(Cov_masked)\n",
    "    return Data, Covinv"
   ]
  },
  {
   "cell_type": "markdown",
   "id": "f1976668",
   "metadata": {},
   "source": [
    "#### RunThis"
   ]
  },
  {
   "cell_type": "code",
   "execution_count": null,
   "id": "cd007e27",
   "metadata": {},
   "outputs": [],
   "source": [
    "def RunThis():\n",
    "    \n",
    "    if SigmaClipping:\n",
    "        IterationNumber = 0\n",
    "        OutfiltCount    = 1\n",
    "    \n",
    "        while OutfiltCount > 0:\n",
    "        \n",
    "            IterationNumber += 1\n",
    "            print('Start iteration #' + str(IterationNumber))            \n",
    "            Prefix2 = Prefix + '_sc' + str(IterationNumber)\n",
    "        \n",
    "            if IterationNumber == 1:\n",
    "                np.savetxt('outfiltered_' + Prefix + '.txt', [0 for i in range(len(SNIa_data))])\n",
    "\n",
    "            Data, Covinv = Masking(Prefix)  \n",
    "            MCMC(Data, Covinv, Prefix2)\n",
    "            OptPar(Prefix2)\n",
    "            Sigma_Clipping(Prefix, Prefix2, IterationNumber)\n",
    "        \n",
    "            Outfiltered  = np.genfromtxt('outfiltered_' + Prefix + '.txt')\n",
    "            OutfiltCount = sum(Outfiltered == IterationNumber)\n",
    "            print('End iteration #' + str(IterationNumber) + '; Outfiltered: ' + str(OutfiltCount))\n",
    "            \n",
    "    else:\n",
    "        Data, Covinv = Masking(Prefix)\n",
    "        MCMC(Data, Covinv, Prefix)\n",
    "        OptPar(Prefix)"
   ]
  },
  {
   "cell_type": "code",
   "execution_count": null,
   "id": "3466f124",
   "metadata": {
    "scrolled": false
   },
   "outputs": [],
   "source": [
    "RunThis()"
   ]
  }
 ],
 "metadata": {
  "kernelspec": {
   "display_name": "Python 3 (ipykernel)",
   "language": "python",
   "name": "python3"
  },
  "language_info": {
   "codemirror_mode": {
    "name": "ipython",
    "version": 3
   },
   "file_extension": ".py",
   "mimetype": "text/x-python",
   "name": "python",
   "nbconvert_exporter": "python",
   "pygments_lexer": "ipython3",
   "version": "3.9.13"
  }
 },
 "nbformat": 4,
 "nbformat_minor": 5
}
